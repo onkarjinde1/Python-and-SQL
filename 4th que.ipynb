{
 "cells": [
  {
   "cell_type": "markdown",
   "metadata": {},
   "source": []
  },
  {
   "cell_type": "code",
   "execution_count": 4,
   "metadata": {},
   "outputs": [],
   "source": [
    "import json"
   ]
  },
  {
   "cell_type": "code",
   "execution_count": 6,
   "metadata": {},
   "outputs": [
    {
     "name": "stdout",
     "output_type": "stream",
     "text": [
      "{\n",
      " \"John\": {\n",
      "  \"number\": \"+61 2 3617 9451\",\n",
      "  \"age\": 19,\n",
      "  \"address\": [\n",
      "   \"10/365 Pacific Highway, Hornsby\",\n",
      "   \"Sydney, New South Wales\",\n",
      "   \"Australia \\u00e2\\u20ac\\u201c 2077.\"\n",
      "  ]\n",
      " },\n",
      " \"Ravi\": {\n",
      "  \"number\": \"+91 9972354015\",\n",
      "  \"age\": 21,\n",
      "  \"address\": [\n",
      "   \"110 New Vora House, Koramangala\",\n",
      "   \"Bengaluru, Karnataka\",\n",
      "   \"India \\u00e2\\u20ac\\u201c 560078.\"\n",
      "  ]\n",
      " }\n",
      "}\n"
     ]
    }
   ],
   "source": [
    "with open('F:\\\\Onkar\\\\data1.json') as f:\n",
    "\tx = json.load(f)\n",
    "print(json.dumps(x, indent=1))"
   ]
  },
  {
   "cell_type": "code",
   "execution_count": null,
   "metadata": {},
   "outputs": [],
   "source": []
  }
 ],
 "metadata": {
  "kernelspec": {
   "display_name": "Python 3",
   "language": "python",
   "name": "python3"
  },
  "language_info": {
   "codemirror_mode": {
    "name": "ipython",
    "version": 3
   },
   "file_extension": ".py",
   "mimetype": "text/x-python",
   "name": "python",
   "nbconvert_exporter": "python",
   "pygments_lexer": "ipython3",
   "version": "3.11.1 (tags/v3.11.1:a7a450f, Dec  6 2022, 19:58:39) [MSC v.1934 64 bit (AMD64)]"
  },
  "orig_nbformat": 4,
  "vscode": {
   "interpreter": {
    "hash": "ec382fd9cb3691bc6de0a21afe9189215f8c06bc118a28fe922624779799fae1"
   }
  }
 },
 "nbformat": 4,
 "nbformat_minor": 2
}
