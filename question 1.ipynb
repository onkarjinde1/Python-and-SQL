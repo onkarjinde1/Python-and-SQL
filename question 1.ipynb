{
 "cells": [
  {
   "cell_type": "code",
   "execution_count": 2,
   "metadata": {},
   "outputs": [],
   "source": [
    "import json"
   ]
  },
  {
   "cell_type": "code",
   "execution_count": 3,
   "metadata": {},
   "outputs": [
    {
     "name": "stdout",
     "output_type": "stream",
     "text": [
      "Type of Json object:  <class 'dict'>\n",
      "Name:  John\n",
      "Phone Number:  +61 2 3617 9451\n",
      "Age:  19\n",
      "Address:\n",
      "10/365 Pacific Highway, Hornsby\n",
      "Sydney, New South Wales\n",
      "Australia â€“ 2077.\n",
      "\n",
      "Name:  Ravi\n",
      "Phone Number:  +91 9972354015\n",
      "Age:  21\n",
      "Address:\n",
      "110 New Vora House, Koramangala\n",
      "Bengaluru, Karnataka\n",
      "India â€“ 560078.\n",
      "\n"
     ]
    }
   ],
   "source": [
    "with open('F:\\\\Onkar\\\\data1.json') as f:\n",
    "\tx = json.load(f)\n",
    "print(\"Type of Json object: \", type(x))\n",
    "for name in x:\n",
    "    print(\"Name: \", name)\n",
    "    print(\"Phone Number: \", x[name][\"number\"])\n",
    "    print(\"Age: \", x[name][\"age\"])\n",
    "    \n",
    "    print(\"Address:\")\n",
    "    for line in x[name][\"address\"]:\n",
    "        print(line)\n",
    "    print()"
   ]
  },
  {
   "cell_type": "code",
   "execution_count": null,
   "metadata": {},
   "outputs": [],
   "source": []
  }
 ],
 "metadata": {
  "kernelspec": {
   "display_name": "Python 3",
   "language": "python",
   "name": "python3"
  },
  "language_info": {
   "codemirror_mode": {
    "name": "ipython",
    "version": 3
   },
   "file_extension": ".py",
   "mimetype": "text/x-python",
   "name": "python",
   "nbconvert_exporter": "python",
   "pygments_lexer": "ipython3",
   "version": "3.11.1"
  },
  "orig_nbformat": 4,
  "vscode": {
   "interpreter": {
    "hash": "ec382fd9cb3691bc6de0a21afe9189215f8c06bc118a28fe922624779799fae1"
   }
  }
 },
 "nbformat": 4,
 "nbformat_minor": 2
}
