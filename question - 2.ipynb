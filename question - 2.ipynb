{
 "cells": [
  {
   "cell_type": "code",
   "execution_count": 1,
   "metadata": {},
   "outputs": [],
   "source": [
    "import json"
   ]
  },
  {
   "cell_type": "code",
   "execution_count": 2,
   "metadata": {},
   "outputs": [
    {
     "name": "stdout",
     "output_type": "stream",
     "text": [
      "Person vs Number of Address Lines:\n",
      "John 3\n",
      "Ravi 3\n"
     ]
    }
   ],
   "source": [
    "with open('F:\\\\Onkar\\\\data1.json') as f:\n",
    "\tx = json.load(f)\n",
    " \n",
    "result = []\n",
    "for name in x:\n",
    "    data = [name, len(x[name][\"address\"])]\n",
    "    result.append( data )\n",
    "print(\"Person vs Number of Address Lines:\")\n",
    "for name, lines in result:\n",
    "    print( name + \" \" + str(lines) )\n"
   ]
  },
  {
   "cell_type": "code",
   "execution_count": null,
   "metadata": {},
   "outputs": [],
   "source": []
  }
 ],
 "metadata": {
  "kernelspec": {
   "display_name": "Python 3",
   "language": "python",
   "name": "python3"
  },
  "language_info": {
   "codemirror_mode": {
    "name": "ipython",
    "version": 3
   },
   "file_extension": ".py",
   "mimetype": "text/x-python",
   "name": "python",
   "nbconvert_exporter": "python",
   "pygments_lexer": "ipython3",
   "version": "3.11.1 (tags/v3.11.1:a7a450f, Dec  6 2022, 19:58:39) [MSC v.1934 64 bit (AMD64)]"
  },
  "orig_nbformat": 4,
  "vscode": {
   "interpreter": {
    "hash": "ec382fd9cb3691bc6de0a21afe9189215f8c06bc118a28fe922624779799fae1"
   }
  }
 },
 "nbformat": 4,
 "nbformat_minor": 2
}
